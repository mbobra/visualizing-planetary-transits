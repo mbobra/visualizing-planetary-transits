{
 "cells": [
  {
   "cell_type": "markdown",
   "metadata": {},
   "source": [
    "# visualizing the transit of venus"
   ]
  },
  {
   "cell_type": "markdown",
   "metadata": {},
   "source": [
    "In this notebook, we will be creating images to make a movie of the transit of Venus (below). While Venus transited across the Sun on June 5, 2012, it obscured some of the sunlight we observe here on Earth. This caused a dip in the brightness of the Sun. People who observe other stars look for a similar signal to indicate the presence of an extrasolar planet. Venus will transit across the Sun again in 2117."
   ]
  },
  {
   "cell_type": "code",
   "execution_count": 1,
   "metadata": {
    "collapsed": false
   },
   "outputs": [
    {
     "data": {
      "text/html": [
       "\n",
       "        <iframe\n",
       "            width=\"400\"\n",
       "            height=\"600\"\n",
       "            src=\"https://stanford.edu/~mbobra/venus/venus_transit.mp4\"\n",
       "            frameborder=\"0\"\n",
       "            allowfullscreen\n",
       "        ></iframe>\n",
       "        "
      ],
      "text/plain": [
       "<IPython.lib.display.IFrame at 0x105887b90>"
      ]
     },
     "execution_count": 1,
     "metadata": {},
     "output_type": "execute_result"
    }
   ],
   "source": [
    "%matplotlib inline\n",
    "from IPython.display import IFrame\n",
    "IFrame(src='https://stanford.edu/~mbobra/venus/venus_transit.mp4',width=400,height=600)"
   ]
  },
  {
   "cell_type": "markdown",
   "metadata": {},
   "source": [
    "First, we'll import some modules."
   ]
  },
  {
   "cell_type": "code",
   "execution_count": 2,
   "metadata": {
    "collapsed": false
   },
   "outputs": [],
   "source": [
    "import json, urllib, numpy as np, matplotlib.pylab as plt, matplotlib.ticker as mtick\n",
    "import matplotlib.image as mpimg\n",
    "import matplotlib.gridspec as gridspec\n",
    "from datetime import datetime as dt_obj\n",
    "from astropy.io import fits\n",
    "from matplotlib.dates import *\n",
    "import matplotlib.gridspec as gridspec\n",
    "from sunpy.cm import color_tables as ct\n",
    "from scipy import signal\n",
    "%config InlineBackend.figure_format='retina'"
   ]
  },
  {
   "cell_type": "markdown",
   "metadata": {},
   "source": [
    "Now we'll execute a sample JSON query using the json and urllib modules. In theory, it is possible to parse JSON queries using the <code>read_json()</code> function in the pandas library, but, in practice, the object returned by the JSON API for the SDO database, <code>jsoc_info</code>, isn't formatted in a way that <code>pandas.read_json()</code> can understand easily."
   ]
  },
  {
   "cell_type": "code",
   "execution_count": 3,
   "metadata": {
    "collapsed": false
   },
   "outputs": [],
   "source": [
    "url = \"http://jsoc.stanford.edu/cgi-bin/ajax/jsoc_info?ds=hmi.Ic_45s[2012.06.03_22:00:59-2012.06.07_22:00:59]&op=rs_list&key=T_REC,DATAMEA2\"\n",
    "response = urllib.urlopen(url)\n",
    "data = json.loads(response.read())"
   ]
  },
  {
   "cell_type": "markdown",
   "metadata": {},
   "source": [
    "Now we'll create some empty lists to hold the data. The keyword `DATAMEAN2` contains the average intensity of the Sun in DN/s."
   ]
  },
  {
   "cell_type": "code",
   "execution_count": 4,
   "metadata": {
    "collapsed": false
   },
   "outputs": [],
   "source": [
    "datamea2 = [] # this holds the keyword DATAMEA2\n",
    "t_rec  = [] # this holds the keyword T_REC"
   ]
  },
  {
   "cell_type": "markdown",
   "metadata": {},
   "source": [
    "<code>data</code> is of type dict, so we'll get the number of keyword elements this way:"
   ]
  },
  {
   "cell_type": "code",
   "execution_count": 5,
   "metadata": {
    "collapsed": false
   },
   "outputs": [],
   "source": [
    "n_elements = len(data['keywords'][0]['values'])"
   ]
  },
  {
   "cell_type": "markdown",
   "metadata": {},
   "source": [
    "And then we'll populate our empty lists to hold the keyword values. There are some missing values of `DATAMEA2`, so we can take the nearest available value (the cadence is short enough that this method is as good as interpolation):"
   ]
  },
  {
   "cell_type": "code",
   "execution_count": 6,
   "metadata": {
    "collapsed": false
   },
   "outputs": [
    {
     "name": "stdout",
     "output_type": "stream",
     "text": [
      "missing datamea2 value at time  2012.06.06_17:33:00_TAI\n",
      "substituting 48780.457031\n",
      "missing datamea2 value at time  2012.06.06_17:42:00_TAI\n",
      "substituting 48772.433594\n",
      "missing datamea2 value at time  2012.06.06_17:48:45_TAI\n",
      "substituting 48762.753906\n",
      "missing datamea2 value at time  2012.06.06_18:04:30_TAI\n",
      "substituting 48746.183594\n",
      "missing datamea2 value at time  2012.06.06_18:05:15_TAI\n",
      "substituting 48746.695312\n",
      "missing datamea2 value at time  2012.06.06_18:06:00_TAI\n",
      "substituting 48746.183594\n",
      "missing datamea2 value at time  2012.06.07_17:33:00_TAI\n",
      "substituting 48779.480469\n",
      "there are  7.0 missing datamea2 values\n",
      "the length of datamea2 and t_rec are (7681,) (7681,)\n"
     ]
    }
   ],
   "source": [
    "count = 0.0\n",
    "for i in range(n_elements):\n",
    "    t_rec.append(data['keywords'][0]['values'][i])\n",
    "    if 'MISSING' in str(data['keywords'][1]['values'][i]):\n",
    "        print 'missing datamea2 value at time ',data['keywords'][0]['values'][i]\n",
    "        datamea2_pre = data['keywords'][1]['values'][i-1]\n",
    "        if (datamea2_pre != 'MISSING'):\n",
    "            datamea2.append(data['keywords'][1]['values'][i-1])\n",
    "            print 'substituting',data['keywords'][1]['values'][i-1]\n",
    "        else:\n",
    "            datamea2.append(data['keywords'][1]['values'][i-3])\n",
    "            print 'substituting',data['keywords'][1]['values'][i-3]\n",
    "        count = count + 1.0\n",
    "    else:\n",
    "        datamea2.append(data['keywords'][1]['values'][i])\n",
    "datamea2 = np.array(datamea2).astype(float)\n",
    "t_rec = np.array(t_rec)\n",
    "print 'there are ',count,'missing datamea2 values'\n",
    "print 'the length of datamea2 and t_rec are',datamea2.shape,t_rec.shape"
   ]
  },
  {
   "cell_type": "markdown",
   "metadata": {},
   "source": [
    "Now we have to detrend the value of `DATAMEA2` to remove the effects of the orbital velocity of the spacecraft:"
   ]
  },
  {
   "cell_type": "code",
   "execution_count": 7,
   "metadata": {
    "collapsed": false
   },
   "outputs": [
    {
     "name": "stdout",
     "output_type": "stream",
     "text": [
      "chunk 1920\n",
      "chunk 3840\n"
     ]
    }
   ],
   "source": [
    "chunk = []\n",
    "for i in range(1920, n_elements-1921, 1920):\n",
    "    before_chunk = datamea2[i-1920:i]\n",
    "    after_chunk = datamea2[i+1920:i+3840]\n",
    "    avg_chunk = (before_chunk + after_chunk) / 2.0\n",
    "    chunk.append(datamea2[i:i+1920] - avg_chunk)\n",
    "    print 'chunk',i"
   ]
  },
  {
   "cell_type": "markdown",
   "metadata": {},
   "source": [
    "Now make `T_REC` and `DATAMEA2` variable the same size:"
   ]
  },
  {
   "cell_type": "code",
   "execution_count": 8,
   "metadata": {
    "collapsed": false
   },
   "outputs": [
    {
     "name": "stdout",
     "output_type": "stream",
     "text": [
      "(3840,) (3840,)\n"
     ]
    }
   ],
   "source": [
    "datamea2 = np.array(chunk).flatten()\n",
    "t_rec = t_rec[1920:1920+1920+1920]\n",
    "print datamea2.shape, t_rec.shape"
   ]
  },
  {
   "cell_type": "markdown",
   "metadata": {},
   "source": [
    "T_REC is formatted in a way that matplotlib.pyplot will not understand, so let's convert the numpy array into a datetime object:"
   ]
  },
  {
   "cell_type": "code",
   "execution_count": 9,
   "metadata": {
    "collapsed": false
   },
   "outputs": [],
   "source": [
    "def parse_tai_string(tstr,datetime=True):\n",
    "    year   = int(tstr[:4])\n",
    "    month  = int(tstr[5:7])\n",
    "    day    = int(tstr[8:10])\n",
    "    hour   = int(tstr[11:13])\n",
    "    minute = int(tstr[14:16])\n",
    "    second = int(tstr[17:19])\n",
    "    if datetime: return dt_obj(year,month,day,hour,minute,second)\n",
    "    else: return year,month,day,hour,minute,second\n",
    "\n",
    "x = np.array([parse_tai_string(t_rec[i],datetime=True) for i in range(t_rec.size)])"
   ]
  },
  {
   "cell_type": "markdown",
   "metadata": {},
   "source": [
    "These are the times and values we'll use for the visualization:"
   ]
  },
  {
   "cell_type": "code",
   "execution_count": 10,
   "metadata": {
    "collapsed": false
   },
   "outputs": [],
   "source": [
    "times_transit = x[1900:2456]\n",
    "datamea2_transit = datamea2[1900:2456]"
   ]
  },
  {
   "cell_type": "markdown",
   "metadata": {},
   "source": [
    "Now, a complication arises from the fact that the image data we have are not at the same cadence as the metadata. The imges are at a non-standard cadence to capture the ingress and egress of the planet; furthermore, the cadence is not constant throughout time. Therefore we have to first gather a list of times that correspond to each image and calculate the delta between each time step."
   ]
  },
  {
   "cell_type": "code",
   "execution_count": 11,
   "metadata": {
    "collapsed": false
   },
   "outputs": [],
   "source": [
    "url = 'http://jsoc.stanford.edu/data/events/Venus_HMI_Ic/WholeSun/list.body'\n",
    "response = urllib.urlopen(url)\n",
    "times = response.read()\n",
    "times = times.split('},') # then split it into lines"
   ]
  },
  {
   "cell_type": "code",
   "execution_count": 12,
   "metadata": {
    "collapsed": false
   },
   "outputs": [],
   "source": [
    "image_times = []\n",
    "for i in range(0):\n",
    "    image_times.append(times[i][17:36])\n",
    "for i in range(1,11):\n",
    "    image_times.append(times[i][18:37])\n",
    "for i in range(12,101):\n",
    "    image_times.append(times[i][19:38])\n",
    "for i in range(102,183):\n",
    "    image_times.append(times[i][20:39])\n",
    "image_times = np.array(image_times)"
   ]
  },
  {
   "cell_type": "code",
   "execution_count": 13,
   "metadata": {
    "collapsed": false
   },
   "outputs": [],
   "source": [
    "image_times[0] = '2012-06-05_21:46:00'\n",
    "image_times[1] = '2012-06-05_21:53:00'"
   ]
  },
  {
   "cell_type": "code",
   "execution_count": 14,
   "metadata": {
    "collapsed": false
   },
   "outputs": [],
   "source": [
    "x_image_times = np.array([parse_tai_string(image_times[i],datetime=True) for i in range(image_times.size)])"
   ]
  },
  {
   "cell_type": "code",
   "execution_count": 15,
   "metadata": {
    "collapsed": false
   },
   "outputs": [],
   "source": [
    "imagetimedelta = []\n",
    "for i in range(x_image_times.size-1):\n",
    "    imagetimedelta.append((x_image_times[i+1] - x_image_times[i]).total_seconds())\n",
    "imagetimedelta = np.array(imagetimedelta)"
   ]
  },
  {
   "cell_type": "markdown",
   "metadata": {},
   "source": [
    "Then we have to figure out which 45-second slot data to query for the corresponding metadata:"
   ]
  },
  {
   "cell_type": "code",
   "execution_count": 16,
   "metadata": {
    "collapsed": false
   },
   "outputs": [],
   "source": [
    "imagetimedelta = (np.round((imagetimedelta/45.+0.1))).astype(int)"
   ]
  },
  {
   "cell_type": "markdown",
   "metadata": {},
   "source": [
    "Finally, we can generate the images. We have 179 time steps, unevenly spaced in time, that capture the transit of Venus. For each time step we'll show an image of the Sun and the detrended value of `DATAMEAN2`. Then we can stitch all these images together in a movie using Quicktime or [a python movie-making tool](http://nbviewer.jupyter.org/github/mbobra/calculating-spaceweather-keywords/blob/master/movie.ipynb). (I'm including the cell magic `%%capture` command here only to reduce the size of the notebook -- otherwise it would be too large to put on github)."
   ]
  },
  {
   "cell_type": "code",
   "execution_count": 17,
   "metadata": {
    "collapsed": false
   },
   "outputs": [],
   "source": [
    "%%capture\n",
    "count = 0\n",
    "for i in range(imagetimedelta.shape[0]): \n",
    "    count = imagetimedelta[i] + count \n",
    "    j = i + 1\n",
    "    counter = \"%04d\"%j\n",
    "    if (counter == '0024'):   # this image is messed up\n",
    "        continue\n",
    "    url = \"http://jsoc.stanford.edu/data/events/Venus_HMI_Ic/WholeSun/images/\"+counter+\".jpg\"\n",
    "    data = urllib.urlretrieve(url)\n",
    "    image = mpimg.imread(data[0])\n",
    "\n",
    "    fig = plt.figure(figsize=(10,10),facecolor='black')\n",
    "    ax_image = plt.subplot2grid((7, 5), (0, 0), colspan=5, rowspan=5)\n",
    "    ax_image.get_xaxis().set_ticks([])\n",
    "    ax_image.get_yaxis().set_ticks([])\n",
    "    ax_image.set_axis_bgcolor('black')\n",
    "    plt.imshow(image[:-30,30:])\n",
    "\n",
    "    #ax = fig.add_subplot(2,1,1)\n",
    "    ax = plt.subplot2grid((7, 5), (5, 1), colspan=3, rowspan=2)\n",
    "    #fig, ax = plt.subplots(figsize=(5,5))           # define the size of the figure\n",
    "    cornblue = (100/255., 149/255., 147/255., 1.0)   # create a cornflower blue color\n",
    "    grey     = (211/255., 211/255., 211/255., 1.0)   # create a light grey color\n",
    "\n",
    "    # define some style elements\n",
    "    marker_style = dict(linestyle='', markersize=8, fillstyle='full',color=cornblue,markeredgecolor=cornblue)\n",
    "    background_marker_style = dict(linestyle='', markersize=8, fillstyle='full',color=grey,markeredgecolor=grey)\n",
    "    text_style = dict(fontsize=16, fontdict={'family': 'helvetica'}, color=grey)\n",
    "    ax.tick_params(labelsize=14)\n",
    "    ax.spines['bottom'].set_color('grey')\n",
    "    ax.spines['left'].set_color('grey')\n",
    "    ax.spines['bottom'].set_linewidth(3)\n",
    "    ax.spines['left'].set_linewidth(3)\n",
    "    \n",
    "    # ascribe the data to the axes\n",
    "    ax.plot(times_transit[:-1], datamea2_transit[:-1],'o',**background_marker_style)\n",
    "    ax.plot(times_transit[0:count], datamea2_transit[0:count],'o',**marker_style)\n",
    "\n",
    "    # format the x-axis with universal time\n",
    "    locator = AutoDateLocator()\n",
    "    locator.intervald[HOURLY] = [2] # only show every 6 hours\n",
    "    formatter = DateFormatter('%H')\n",
    "    ax.xaxis.set_major_locator(locator)\n",
    "    ax.xaxis.set_major_formatter(formatter)\n",
    "    ax.set_xlabel('time',**text_style)\n",
    "\n",
    "    # set the x and y axis ranges\n",
    "    ax.set_xlim([times_transit[0],x[2465]])\n",
    "    ax.set_ylim([-80,20])\n",
    "\n",
    "    # label the axes and the plot\n",
    "    ax.get_yaxis().set_ticks([])\n",
    "    ax.get_xaxis().set_ticks([])\n",
    "    ax.set_ylabel('brightness',**text_style)\n",
    "    ax.xaxis.labelpad=5\n",
    "    ax.yaxis.labelpad=5\n",
    "    ax.set_axis_bgcolor('black')\n",
    "    fig.subplots_adjust()\n",
    "    fig.savefig(counter+'.jpg',bbox_inches='tight',facecolor=fig.get_facecolor(), transparent=True, dpi=192)"
   ]
  }
 ],
 "metadata": {
  "kernelspec": {
   "display_name": "Python 2",
   "language": "python",
   "name": "python2"
  },
  "language_info": {
   "codemirror_mode": {
    "name": "ipython",
    "version": 2
   },
   "file_extension": ".py",
   "mimetype": "text/x-python",
   "name": "python",
   "nbconvert_exporter": "python",
   "pygments_lexer": "ipython2",
   "version": "2.7.11"
  }
 },
 "nbformat": 4,
 "nbformat_minor": 0
}
